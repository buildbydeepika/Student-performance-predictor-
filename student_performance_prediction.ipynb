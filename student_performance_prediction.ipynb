# Import required libraries
import pandas as pd
import numpy as np
import matplotlib.pyplot as plt
import seaborn as sns
from sklearn.model_selection import train_test_split
from sklearn.ensemble import RandomForestClassifier
from sklearn.metrics import classification_report, confusion_matrix
import pickle

# Load the dataset
df = pd.read_csv("dataset/student-mat.csv")

# Drop irrelevant features
df = df.drop(['school','address','famsize','Pstatus','Mjob','Fjob','reason','guardian','schoolsup','famsup',
              'paid','activities','nursery','internet','romantic'], axis=1)
df = pd.get_dummies(df, drop_first=True)

# Define features and target
X = df.drop('G3', axis=1)
y = df['G3'].apply(lambda x: 1 if x >= 10 else 0)  # Pass if G3 >= 10

# Split the data
X_train, X_test, y_train, y_test = train_test_split(X, y, test_size=0.2, random_state=42)

# Train the model
model = RandomForestClassifier(n_estimators=100, random_state=42)
model.fit(X_train, y_train)

# Evaluate
y_pred = model.predict(X_test)
print("Classification Report:\n", classification_report(y_test, y_pred))
print("Confusion Matrix:\n", confusion_matrix(y_test, y_pred))

# Save the model
with open("model.pkl", "wb") as f:
    pickle.dump(model, f)
